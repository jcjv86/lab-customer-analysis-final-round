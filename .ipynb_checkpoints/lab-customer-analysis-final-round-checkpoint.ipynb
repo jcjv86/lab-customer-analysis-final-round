{
 "cells": [
  {
   "cell_type": "markdown",
   "id": "bdb30978-7781-4a98-8435-1ee2fff1b62b",
   "metadata": {},
   "source": [
    "<h1>Lab | Customer Analysis Round 1<h1>"
   ]
  },
  {
   "cell_type": "code",
   "execution_count": null,
   "id": "90072ad6-f307-495b-9b61-17f285e838ad",
   "metadata": {},
   "outputs": [],
   "source": [
    "import pandas as pd\n",
    "import numpy as np\n",
    "import datetime\n",
    "import matplotlib.pyplot as plt\n",
    "%matplotlib inline\n",
    "import seaborn as sns\n",
    "sns.set_theme()\n",
    "from sklearn.preprocessing import MinMaxScaler\n",
    "from sklearn.preprocessing import StandardScaler\n",
    "from sklearn.preprocessing import PowerTransformer\n",
    "from sklearn.linear_model import LinearRegression\n",
    "from sklearn.model_selection import train_test_split\n",
    "from sklearn.metrics import mean_squared_error\n",
    "from sklearn.metrics import r2_score\n",
    "import sklearn.metrics as metrics\n",
    "\n",
    "import final_lab #This library contains all functions and replies to the exercises."
   ]
  },
  {
   "cell_type": "code",
   "execution_count": null,
   "id": "954bf604-8988-46a4-89c3-510716c6ce95",
   "metadata": {},
   "outputs": [],
   "source": [
    "final_lab.lab_1()"
   ]
  },
  {
   "cell_type": "markdown",
   "id": "f1e9a307-4ad9-4c9f-b3d9-446f1aeb2805",
   "metadata": {},
   "source": [
    "<h1>Lab | Customer Analysis Round 2<h1>"
   ]
  },
  {
   "cell_type": "code",
   "execution_count": null,
   "id": "c7dc8314-8ea8-46ae-b2e1-7a50ab063721",
   "metadata": {},
   "outputs": [],
   "source": [
    "final_lab.lab_2()"
   ]
  },
  {
   "cell_type": "markdown",
   "id": "9489b09b-f706-4f06-b0aa-87a4bd99fba9",
   "metadata": {},
   "source": [
    "<h1>Lab | Customer Analysis Round 3<h1>"
   ]
  },
  {
   "cell_type": "code",
   "execution_count": null,
   "id": "71e59e46-24f9-48f0-8a8d-6a379a7027c2",
   "metadata": {},
   "outputs": [],
   "source": [
    "data = pd.read_csv('./files_for_lab/csv_files/marketing_customer_analysis_lab3.csv')"
   ]
  },
  {
   "cell_type": "code",
   "execution_count": null,
   "id": "5e591292-84b6-454a-85f5-2043ace17e77",
   "metadata": {},
   "outputs": [],
   "source": [
    "final_lab.lab_3(data)"
   ]
  },
  {
   "cell_type": "markdown",
   "id": "c16c5e63-0862-469e-bfff-f1dc7e6a4997",
   "metadata": {},
   "source": [
    "<h1>Lab | Customer Analysis Round 4<h1>"
   ]
  },
  {
   "cell_type": "markdown",
   "id": "332b8657-172a-4f22-90d7-23c1ece8d0ab",
   "metadata": {},
   "source": [
    "Check the data types of the columns. Get the numeric data into dataframe called numerical and categorical columns in a dataframe called categoricals. (You can use np.number and np.object to select the numerical data types and categorical data types respectively)"
   ]
  },
  {
   "cell_type": "code",
   "execution_count": null,
   "id": "760c162f-edce-40cc-abf6-2fecf79b213f",
   "metadata": {},
   "outputs": [],
   "source": [
    "final_lab.lab_4(data)"
   ]
  },
  {
   "cell_type": "markdown",
   "id": "0a464ab4-0231-4358-8e38-b1cbd594a233",
   "metadata": {},
   "source": [
    "<h1>Lab | Customer Analysis Round 5<h1>"
   ]
  },
  {
   "cell_type": "code",
   "execution_count": null,
   "id": "0605b49c-3dc3-4143-9d8f-f07f5344da51",
   "metadata": {},
   "outputs": [],
   "source": [
    "final_lab.lab_5(data)"
   ]
  },
  {
   "cell_type": "markdown",
   "id": "c480a05e-055e-4c1c-b042-c3a086bd09c8",
   "metadata": {},
   "source": [
    "<h1>Lab | Customer Analysis Round 6<h1>"
   ]
  },
  {
   "cell_type": "code",
   "execution_count": null,
   "id": "1f5084b4-53b6-48fc-9868-8c39567ca147",
   "metadata": {},
   "outputs": [],
   "source": [
    "final_lab.lab_6(data)"
   ]
  },
  {
   "cell_type": "markdown",
   "id": "95786ff2-3cf3-4967-8f6f-ddbf1c05b168",
   "metadata": {},
   "source": [
    "<h1>Data results<h1>"
   ]
  },
  {
   "cell_type": "markdown",
   "id": "f76c694c-0c15-46cd-8481-0ec0d201b481",
   "metadata": {},
   "source": [
    "We can see that applying the standarization has reduced the errors but also the R2 so the model performance is worse. Applying the normalization over this transformed data has completely offset R2 value, so the model is not operative at all after this second transformation."
   ]
  }
 ],
 "metadata": {
  "kernelspec": {
   "display_name": "Python 3 (ipykernel)",
   "language": "python",
   "name": "python3"
  },
  "language_info": {
   "codemirror_mode": {
    "name": "ipython",
    "version": 3
   },
   "file_extension": ".py",
   "mimetype": "text/x-python",
   "name": "python",
   "nbconvert_exporter": "python",
   "pygments_lexer": "ipython3",
   "version": "3.9.13"
  }
 },
 "nbformat": 4,
 "nbformat_minor": 5
}
